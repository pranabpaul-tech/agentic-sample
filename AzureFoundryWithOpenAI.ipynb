{
 "cells": [
  {
   "cell_type": "code",
   "execution_count": null,
   "id": "922da35c",
   "metadata": {},
   "outputs": [],
   "source": [
    "### Uncomment the following lines to install the required packages###\n",
    "# # For Azure AI Projects client library from Azure AI Foundry SDK packages and services\n",
    "# ! pip install azure-ai-projects \n",
    "# # For Microsoft Entra ID token authentication support \n",
    "# ! pip install azure-identity \n",
    "# # For OpenAI API client library\n",
    "# ! pip install openai "
   ]
  },
  {
   "cell_type": "code",
   "execution_count": null,
   "id": "b719d3fe",
   "metadata": {},
   "outputs": [],
   "source": [
    "from azure.ai.projects import AIProjectClient\n",
    "from azure.identity import DefaultAzureCredential"
   ]
  },
  {
   "cell_type": "code",
   "execution_count": null,
   "id": "4fa7edb4",
   "metadata": {},
   "outputs": [],
   "source": [
    "project_client = AIProjectClient.from_connection_string(\n",
    "    credential=DefaultAzureCredential(),\n",
    "    conn_str='<Your Project connection string from Azure AI Foundry>',\n",
    ")"
   ]
  },
  {
   "cell_type": "code",
   "execution_count": null,
   "id": "eb3d2a7b",
   "metadata": {},
   "outputs": [],
   "source": [
    "openai = project_client.inference.get_azure_openai_client(api_version=\"2024-12-01-preview\")\n",
    "response = openai.chat.completions.create(\n",
    "    model=\"gpt-4o\",\n",
    "    messages=[\n",
    "        {\"role\": \"system\", \"content\": \"You are a helpful writing assistant\"},\n",
    "        {\"role\": \"user\", \"content\": \"Write me a poem about flowers\"},\n",
    "    ]\n",
    ")\n",
    "\n",
    "print(response.choices[0].message.content)"
   ]
  }
 ],
 "metadata": {
  "kernelspec": {
   "display_name": "Python 3",
   "language": "python",
   "name": "python3"
  },
  "language_info": {
   "codemirror_mode": {
    "name": "ipython",
    "version": 3
   },
   "file_extension": ".py",
   "mimetype": "text/x-python",
   "name": "python",
   "nbconvert_exporter": "python",
   "pygments_lexer": "ipython3",
   "version": "3.12.10"
  }
 },
 "nbformat": 4,
 "nbformat_minor": 5
}
