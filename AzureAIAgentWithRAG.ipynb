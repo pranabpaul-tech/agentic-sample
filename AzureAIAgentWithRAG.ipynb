{
 "cells": [
  {
   "cell_type": "code",
   "execution_count": null,
   "id": "33fd7e18",
   "metadata": {},
   "outputs": [],
   "source": [
    "### Uncomment the following lines to install the required packages###\n",
    "# # For Azure AI Projects client library from Azure AI Foundry SDK packages and services\n",
    "# ! pip install azure-ai-projects \n",
    "# # For Microsoft Entra ID token authentication support \n",
    "# ! pip install azure-identity "
   ]
  },
  {
   "cell_type": "code",
   "execution_count": null,
   "id": "2fee6188",
   "metadata": {},
   "outputs": [],
   "source": [
    "from azure.ai.projects import AIProjectClient\n",
    "from azure.ai.projects.models import AzureAISearchTool, ConnectionType\n",
    "from azure.identity import DefaultAzureCredential\n",
    "import os"
   ]
  },
  {
   "cell_type": "code",
   "execution_count": null,
   "id": "cd6c70d6",
   "metadata": {},
   "outputs": [],
   "source": [
    "project_client = AIProjectClient.from_connection_string(\n",
    "    credential=DefaultAzureCredential(),\n",
    "    conn_str='<Your Project connection string from Azure AI Foundry>',\n",
    ")"
   ]
  },
  {
   "cell_type": "code",
   "execution_count": null,
   "id": "d51b46e5",
   "metadata": {},
   "outputs": [],
   "source": [
    "search_connection = project_client.connections.get(\n",
    "    connection_name='<Your AI Search connection name>',\n",
    ")"
   ]
  },
  {
   "cell_type": "code",
   "execution_count": null,
   "id": "d3b93c20",
   "metadata": {},
   "outputs": [],
   "source": [
    "ai_search = AzureAISearchTool(search_connection.id, index_name=\"<Your AI Search index name>\")"
   ]
  },
  {
   "cell_type": "code",
   "execution_count": null,
   "id": "e9c8f8e3",
   "metadata": {},
   "outputs": [],
   "source": [
    "with project_client:\n",
    "\n",
    "    agent = project_client.agents.create_agent(\n",
    "        model=\"gpt-4\",\n",
    "        name=\"ai-search-agent\",\n",
    "        instructions=\"You are helpful agent\",\n",
    "        tools=ai_search.definitions,\n",
    "        headers={\"x-ms-enable-preview\": \"true\"},\n",
    "    )\n",
    "    thread = project_client.agents.create_thread()\n",
    "    print(f\"Thread ID: {thread.id}\")\n",
    "    message = project_client.agents.create_message(\n",
    "        thread_id=thread.id,\n",
    "        role=\"user\",\n",
    "        content=\"How does earth appear at night from satelites?\",\n",
    "    )\n",
    "    print(f\"Message ID: {message.id}\")\n",
    "    # create and execute a run\n",
    "    run = project_client.agents.create_and_process_run(thread_id=thread.id, agent_id=agent.id)\n",
    "    print(f\"Run finished with status: {run.status}\")\n",
    "\n",
    "    if run.status == \"failed\":\n",
    "        # Check if you got \"Rate limit is exceeded.\", then you want to get more quota\n",
    "        print(f\"Run failed: {run.last_error}\")\n",
    "\n",
    "    messages = project_client.agents.list_messages(thread_id=thread.id)\n",
    "\n",
    "    # get the most recent message from the assistant\n",
    "    last_msg = messages.get_last_text_message_by_role(\"assistant\")\n",
    "    if last_msg:\n",
    "        print(f\"Last Message: {last_msg.text.value}\")\n"
   ]
  }
 ],
 "metadata": {
  "kernelspec": {
   "display_name": "Python 3",
   "language": "python",
   "name": "python3"
  },
  "language_info": {
   "codemirror_mode": {
    "name": "ipython",
    "version": 3
   },
   "file_extension": ".py",
   "mimetype": "text/x-python",
   "name": "python",
   "nbconvert_exporter": "python",
   "pygments_lexer": "ipython3",
   "version": "3.12.10"
  }
 },
 "nbformat": 4,
 "nbformat_minor": 5
}
