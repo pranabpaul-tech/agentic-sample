{
 "cells": [
  {
   "cell_type": "code",
   "execution_count": null,
   "metadata": {},
   "outputs": [],
   "source": [
    "### Uncomment the following lines to install the required packages###\n",
    "# # For Azure AI Projects client library from Azure AI Foundry SDK packages and services\n",
    "# ! pip install azure-ai-projects \n",
    "# # For Microsoft Entra ID token authentication support \n",
    "# ! pip install azure-identity \n"
   ]
  },
  {
   "cell_type": "code",
   "execution_count": null,
   "metadata": {},
   "outputs": [],
   "source": [
    "from azure.ai.projects import AIProjectClient\n",
    "from azure.ai.projects.models import CodeInterpreterTool\n",
    "from azure.identity import DefaultAzureCredential\n",
    "import os"
   ]
  },
  {
   "cell_type": "code",
   "execution_count": null,
   "metadata": {},
   "outputs": [],
   "source": [
    "project_client = AIProjectClient.from_connection_string(\n",
    "    credential=DefaultAzureCredential(),\n",
    "    conn_str='<Your Project connection string from Azure AI Foundry>',\n",
    ")"
   ]
  },
  {
   "cell_type": "code",
   "execution_count": null,
   "metadata": {},
   "outputs": [],
   "source": [
    "\n",
    "with project_client:\n",
    "\n",
    "    code_interpreter = CodeInterpreterTool()\n",
    "    \n",
    "    agent = project_client.agents.create_agent(\n",
    "        model=\"gpt-4\",\n",
    "        name=\"simple-blog-writer-agent\",\n",
    "        instructions=\"You are helpful agent\",\n",
    "        tools=code_interpreter.definitions\n",
    "    )\n",
    "\n",
    "    thread = project_client.agents.create_thread()\n",
    "\n",
    "    message = project_client.agents.create_message(\n",
    "        thread_id=thread.id,\n",
    "        role=\"user\",\n",
    "        content=\"\"\"\n",
    "        \n",
    "        You are my Python programming assistant. Generate code and execute it according to the following requirements\n",
    "\n",
    "        1. Save \"This is blog save example\" to blog-{YYMMDDHHMMSS}.md\n",
    "\n",
    "        2. give me the download this file link\n",
    "            \"\"\",\n",
    "    )\n",
    "    # create and execute a run\n",
    "    run = project_client.agents.create_and_process_run(thread_id=thread.id, agent_id=agent.id)\n",
    "    print(f\"Run finished with status: {run.status}\")\n",
    "\n",
    "    if run.status == \"failed\":\n",
    "        # Check if you got \"Rate limit is exceeded.\", then you want to get more quota\n",
    "        print(f\"Run failed: {run.last_error}\")\n",
    "\n",
    "    # # delete the original file from the agent to free up space (note: this does not delete your version of the file)\n",
    "    # project_client.agents.delete_file(file.id)\n",
    "    # print(\"Deleted file\")\n",
    "\n",
    "    # print the messages from the agent\n",
    "    messages = project_client.agents.list_messages(thread_id=thread.id)\n",
    "\n",
    "    # get the most recent message from the assistant\n",
    "    last_msg = messages.get_last_text_message_by_role(\"assistant\")\n",
    "    if last_msg:\n",
    "        print(f\"Last Message: {last_msg.text.value}\")\n",
    "\n",
    "\n",
    "    for file_path_annotation in messages.file_path_annotations:\n",
    "\n",
    "        file_name = os.path.basename(file_path_annotation.text)\n",
    "\n",
    "        project_client.agents.save_file(file_id=file_path_annotation.file_path.file_id, file_name=file_name,target_dir=\"./blog\")"
   ]
  }
 ],
 "metadata": {
  "kernelspec": {
   "display_name": "Python 3",
   "language": "python",
   "name": "python3"
  },
  "language_info": {
   "codemirror_mode": {
    "name": "ipython",
    "version": 3
   },
   "file_extension": ".py",
   "mimetype": "text/x-python",
   "name": "python",
   "nbconvert_exporter": "python",
   "pygments_lexer": "ipython3",
   "version": "3.12.10"
  }
 },
 "nbformat": 4,
 "nbformat_minor": 2
}
