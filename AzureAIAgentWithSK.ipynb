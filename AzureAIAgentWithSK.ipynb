{
 "cells": [
  {
   "cell_type": "code",
   "execution_count": null,
   "id": "4db33d73",
   "metadata": {},
   "outputs": [],
   "source": [
    "### Uncomment the following lines to install the required packages###\n",
    "# For Microsoft Entra ID token authentication support \n",
    "# ! pip install azure-identity \n",
    "# # For Azure AI Projects client library from Azure AI Foundry SDK packages and services\n",
    "# ! pip install azure-ai-projects\n",
    "# # For Semantic Kernel client library from Azure AI Foundry SDK packages and services     \n",
    "# ! pip install semantic-kernel"
   ]
  },
  {
   "cell_type": "code",
   "execution_count": null,
   "id": "84525b4a",
   "metadata": {},
   "outputs": [],
   "source": [
    "from azure.ai.projects.models import CodeInterpreterTool\n",
    "from azure.identity import DefaultAzureCredential, get_bearer_token_provider\n",
    "from azure.ai.projects import AIProjectClient\n",
    "from azure.ai.projects.models import BingGroundingTool\n",
    "import os\n",
    "from semantic_kernel import Kernel\n",
    "from semantic_kernel.connectors.ai.open_ai import AzureChatCompletion  \n",
    "from semantic_kernel.planners import SequentialPlanner\n",
    "from semantic_kernel.functions.kernel_function_decorator import kernel_function\n",
    "from typing import Annotated"
   ]
  },
  {
   "cell_type": "code",
   "execution_count": null,
   "id": "db1102e0",
   "metadata": {},
   "outputs": [],
   "source": [
    "project_client = AIProjectClient.from_connection_string(\n",
    "    credential=DefaultAzureCredential(),\n",
    "    conn_str='<Your Project connection string from Azure AI Foundry>',\n",
    ")"
   ]
  },
  {
   "cell_type": "code",
   "execution_count": null,
   "id": "99556190",
   "metadata": {},
   "outputs": [],
   "source": [
    "bing_connection = project_client.connections.get(\n",
    "    connection_name='<Your Bing connection name>',\n",
    ")\n",
    "conn_id = bing_connection.id"
   ]
  },
  {
   "cell_type": "code",
   "execution_count": null,
   "id": "de511f1e",
   "metadata": {},
   "outputs": [],
   "source": [
    "class Agents:\n",
    "    @kernel_function(\n",
    "        description=\"This function will be used to use an azure ai agent with web grounding capability using Bing Search API\",\n",
    "        name=\"WebSearchAgent\"\n",
    "    )\n",
    "    def web_search_agent(\n",
    "        self,\n",
    "        query: Annotated[str, \"The user query for which the contextual information needs to be fetched from the web\"]\n",
    "        \n",
    "    ) -> Annotated[str, \"The response from the web search agent\"]:\n",
    "        conn_id = bing_connection.id\n",
    "        bing = BingGroundingTool(connection_id=conn_id)\n",
    "        \n",
    "        agent = project_client.agents.create_agent(\n",
    "        model=\"gpt-4o\",\n",
    "            name=\"bing-assistant\",\n",
    "            instructions=\"You are a helpful assistant\",\n",
    "            tools=bing.definitions,\n",
    "            headers={\"x-ms-enable-preview\": \"true\"},\n",
    "        )\n",
    "        \n",
    "        thread = project_client.agents.create_thread()\n",
    "            \n",
    "        message = project_client.agents.create_message(\n",
    "                thread_id=thread.id,\n",
    "                role=\"user\",\n",
    "                content=query,\n",
    "            )\n",
    "            \n",
    "        run = project_client.agents.create_and_process_run(thread_id=thread.id, agent_id=agent.id)\n",
    "            \n",
    "        messages = project_client.agents.list_messages(thread_id=thread.id)\n",
    "        \n",
    "        print(\"Response from the web search agent:\")\n",
    "        print(\"\\n\")\n",
    "        print(messages.data[0].content[0].text.value)\n",
    "            \n",
    "        return messages.data[0].content[0].text.value\n",
    "       \n",
    "    \n",
    "    @kernel_function(\n",
    "       description=\"This function will use an azure ai agent to prepare a script for a news reporter based on latest information for a specific topic\",\n",
    "         name=\"NewsReporterAgent\"\n",
    "   )\n",
    "    def news_reporter_agent(\n",
    "        self,\n",
    "        topic: Annotated[str, \"The topic for which the latest information/news has been fetched\"],\n",
    "        latest_news: Annotated[str,\"The latest information for a specific topic\"]\n",
    "    ) -> Annotated[str, \"the response from the NewsReporterAgent which is the script for a news reporter\"]:\n",
    "\n",
    "        agent = project_client.agents.create_agent(\n",
    "        model=\"gpt-4o\",\n",
    "        name=\"news-reporter\",\n",
    "        instructions=\"\"\"You are a helpful assistant that is meant to prepare a script for a news reporter based on the latest information for a specific topic both of which you will be given.\n",
    "            The news channel is named MSinghTV and the news reporter is named John. You will be given the topic and the latest information for that topic. Prepare a script for the news reporter John based on the latest information for the topic.\"\"\",\n",
    "            headers={\"x-ms-enable-preview\": \"true\"},\n",
    "        )\n",
    "        \n",
    "        thread = project_client.agents.create_thread()\n",
    "            \n",
    "        message = project_client.agents.create_message(\n",
    "                thread_id=thread.id,\n",
    "                role=\"user\",\n",
    "                content=f\"\"\"The topic is {topic} and the latest information is {latest_news}\"\"\",\n",
    "            )\n",
    "            \n",
    "        run = project_client.agents.create_and_process_run(thread_id=thread.id, agent_id=agent.id)\n",
    "            \n",
    "        messages = project_client.agents.list_messages(thread_id=thread.id)\n",
    "        \n",
    "        print(\"Script for the news reporter:\")\n",
    "        print(\"\\n\")    \n",
    "        print(messages.data[0].content[0].text.value)\n",
    "            \n",
    "        return messages.data[0].content[0].text.value"
   ]
  },
  {
   "cell_type": "code",
   "execution_count": null,
   "id": "58e4ccba",
   "metadata": {},
   "outputs": [],
   "source": [
    "kernel = Kernel()\n",
    "\n",
    "service_id = \"default\"\n",
    "\n",
    "kernel.add_service(\n",
    "    AzureChatCompletion(service_id=service_id,\n",
    "                        api_key=\"9v2KveJczflDWtVeDLFvJj5PNIZq3LzfNaxwHHYbcyzjYPiSLzgFJQQJ99BDACfhMk5XJ3w3AAAAACOGk0ho\",\n",
    "                        deployment_name=\"gpt-4o\",\n",
    "                        endpoint = \"https://ai-pranabp6630ai269359085220.openai.azure.com/\"\n",
    "    )\n",
    ")"
   ]
  },
  {
   "cell_type": "code",
   "execution_count": null,
   "id": "777c4494",
   "metadata": {},
   "outputs": [],
   "source": [
    "planner = SequentialPlanner(\n",
    "    kernel,\n",
    "    service_id\n",
    ")"
   ]
  },
  {
   "cell_type": "code",
   "execution_count": null,
   "id": "6a0fe113",
   "metadata": {},
   "outputs": [],
   "source": [
    "agents_plugin = kernel.add_plugin(Agents(), \"Agents\")"
   ]
  },
  {
   "cell_type": "code",
   "execution_count": null,
   "id": "e000d675",
   "metadata": {},
   "outputs": [],
   "source": [
    "goal = f\"prepare a news script for John on latest news for the world?\""
   ]
  },
  {
   "cell_type": "code",
   "execution_count": null,
   "id": "3199edbe",
   "metadata": {},
   "outputs": [],
   "source": [
    "async def call_planner():\n",
    "    return await planner.create_plan(goal)\n",
    "\n",
    "sequential_plan = await call_planner()\n",
    "\n",
    "print(\"The plan's steps are:\")\n",
    "for step in sequential_plan._steps:\n",
    "    print(\n",
    "        f\"- {step.description.replace('.', '') if step.description else 'No description'} using {step.metadata.fully_qualified_name} with parameters: {step.parameters}\"\n",
    "    )"
   ]
  },
  {
   "cell_type": "code",
   "execution_count": null,
   "id": "89326a6a",
   "metadata": {},
   "outputs": [],
   "source": [
    "async def generate_answer():\n",
    "    return await sequential_plan.invoke(kernel)\n",
    "\n",
    "result = await generate_answer()\n",
    "\n",
    "print(result)"
   ]
  }
 ],
 "metadata": {
  "kernelspec": {
   "display_name": "Python 3",
   "language": "python",
   "name": "python3"
  },
  "language_info": {
   "codemirror_mode": {
    "name": "ipython",
    "version": 3
   },
   "file_extension": ".py",
   "mimetype": "text/x-python",
   "name": "python",
   "nbconvert_exporter": "python",
   "pygments_lexer": "ipython3",
   "version": "3.12.10"
  }
 },
 "nbformat": 4,
 "nbformat_minor": 5
}
