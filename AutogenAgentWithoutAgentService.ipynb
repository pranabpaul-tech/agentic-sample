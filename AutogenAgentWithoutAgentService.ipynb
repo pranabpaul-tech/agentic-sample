{
 "cells": [
  {
   "cell_type": "code",
   "execution_count": null,
   "metadata": {},
   "outputs": [],
   "source": [
    "### Uncomment the following lines to install the required packages###\n",
    "# # For Microsoft Entra ID token authentication support \n",
    "# ! pip install azure-identity \n",
    "# # For Azure OpenAI Assistant \n",
    "# ! pip install \"autogen-ext[openai]\"\n",
    "# # This module provides the main entry point for the autogen_agentchat package \n",
    "# ! pip install autogen-agentchat"
   ]
  },
  {
   "cell_type": "code",
   "execution_count": null,
   "metadata": {},
   "outputs": [],
   "source": [
    "from autogen_agentchat.agents import AssistantAgent\n",
    "from autogen_agentchat.conditions import MaxMessageTermination, TextMentionTermination\n",
    "from autogen_agentchat.teams import RoundRobinGroupChat, SelectorGroupChat\n",
    "from autogen_agentchat.ui import Console\n",
    "from autogen_ext.models.openai import AzureOpenAIChatCompletionClient\n",
    "from azure.identity import DefaultAzureCredential, get_bearer_token_provider"
   ]
  },
  {
   "cell_type": "code",
   "execution_count": null,
   "metadata": {},
   "outputs": [],
   "source": [
    "token_provider = get_bearer_token_provider(DefaultAzureCredential(), \"https://cognitiveservices.azure.com/.default\")"
   ]
  },
  {
   "cell_type": "code",
   "execution_count": null,
   "metadata": {},
   "outputs": [],
   "source": [
    "az_model_client = AzureOpenAIChatCompletionClient(\n",
    "    azure_deployment=\"<your deployment model name>\",  # e.g., \"gpt-4o\"\n",
    "    api_version=\"<model version>\",  # e.g., \"2023-05-15\"\n",
    "    model = \"<your deployment model name>\",  # e.g., \"gpt-4o\"\n",
    "    azure_endpoint=\"<Azure OpenAI Service endpoint>\",\n",
    "    # azure_ad_token_provider=token_provider,  # Optional if you choose key-based authentication.\n",
    "    api_key=\"<Your API Key from AI foundry>\", # For key-based authentication.\n",
    ")"
   ]
  },
  {
   "cell_type": "code",
   "execution_count": null,
   "metadata": {},
   "outputs": [],
   "source": [
    "# Create the story writer agent for kids to write a story based on user input.\n",
    "Story_Writer = AssistantAgent(\n",
    "    name=\"Story_Writer\",\n",
    "    description=\"You are story writer agent for kids to write a story based on user input. Keep the story simple and easy to understand.\",\n",
    "    model_client=az_model_client\n",
    ")"
   ]
  },
  {
   "cell_type": "code",
   "execution_count": null,
   "metadata": {},
   "outputs": [],
   "source": [
    "# Create the story reviewer agent\n",
    "Story_Reviewer = AssistantAgent(\n",
    "    name=\"Story_Reviewer\",\n",
    "    model_client=az_model_client,\n",
    "    system_message=\"You are a helpful story reviewer assistant. You will review the story written by the Story_Writer agent and will provide critical feedbacks. Repond with 'Approved' when your feedbacks are addressed.\"\n",
    ")"
   ]
  },
  {
   "cell_type": "code",
   "execution_count": null,
   "metadata": {},
   "outputs": [],
   "source": [
    "#Define a termination condition if the story is approved\n",
    "termination_condition = TextMentionTermination(\"Approved\")\n",
    "max_message_termination = MaxMessageTermination(5)\n",
    "# Combine the termination conditions using the `|`` operator so that the\n",
    "# task stops when either condition is met.\n",
    "termination = termination_condition | max_message_termination"
   ]
  },
  {
   "cell_type": "code",
   "execution_count": null,
   "metadata": {},
   "outputs": [],
   "source": [
    "\n",
    "team_chat = SelectorGroupChat(\n",
    "    [Story_Writer, Story_Reviewer],\n",
    "    model_client=az_model_client,\n",
    "    termination_condition=termination\n",
    ")\n",
    "\n"
   ]
  },
  {
   "cell_type": "code",
   "execution_count": null,
   "metadata": {},
   "outputs": [],
   "source": [
    "async def main():\n",
    "    \n",
    "    await Console(\n",
    "                    team_chat.run_stream(task=\"\"\"\n",
    "\n",
    "                    Write a story about a small girl who loves to play with her pet kitten. The story should be simple and easy to understand for kids. The story should be fun and engaging, with a happy ending.\n",
    "\n",
    "        \"\"\")\n",
    "    )  # Stream the messages to the console."
   ]
  },
  {
   "cell_type": "code",
   "execution_count": null,
   "metadata": {},
   "outputs": [],
   "source": [
    "await main()\n",
    "    "
   ]
  }
 ],
 "metadata": {
  "kernelspec": {
   "display_name": "Python 3",
   "language": "python",
   "name": "python3"
  },
  "language_info": {
   "codemirror_mode": {
    "name": "ipython",
    "version": 3
   },
   "file_extension": ".py",
   "mimetype": "text/x-python",
   "name": "python",
   "nbconvert_exporter": "python",
   "pygments_lexer": "ipython3",
   "version": "3.12.10"
  }
 },
 "nbformat": 4,
 "nbformat_minor": 2
}
